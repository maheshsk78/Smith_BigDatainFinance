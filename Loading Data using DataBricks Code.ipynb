{
  "nbformat": 4,
  "nbformat_minor": 0,
  "metadata": {
    "colab": {
      "name": "DataBricksCode.ipynb",
      "provenance": []
    },
    "kernelspec": {
      "name": "python3",
      "display_name": "Python 3"
    }
  },
  "cells": [
    {
      "cell_type": "code",
      "metadata": {
        "id": "NkZ_Q8NzIIkr"
      },
      "source": [
        "# File location and type\n",
        "file_location = \"/FileStore/tables/JPMoptions.csv\"\n",
        "file_type = \"csv\"\n",
        "\n",
        "# CSV options\n",
        "infer_schema = \"true\"\n",
        "first_row_is_header = \"true\"\n",
        "delimiter = \",\"\n",
        "\n",
        "# The applied options are for CSV files. For other file types, these will be ignored.\n",
        "df = spark.read.format(file_type) \\\n",
        "  .option(\"inferSchema\", infer_schema) \\\n",
        "  .option(\"header\", first_row_is_header) \\\n",
        "  .option(\"sep\", delimiter) \\\n",
        "  .load(file_location)\n",
        "\n",
        "# display(df)\n",
        "\n",
        "df_op = df.toPandas()\n",
        "import pandas as pd\n",
        "df_op['date'] = pd.to_datetime(df_op['date'].astype(str))\n",
        "df_op['exdate'] = pd.to_datetime(df_op['exdate'].astype(str))\n",
        "df_op.head()\n",
        "\n",
        "###### Stock data next \n",
        "\n",
        "# File location and type\n",
        "file_location2 = \"/FileStore/tables/JPMstock.csv\"\n",
        "file_type2 = \"csv\"\n",
        "\n",
        "# CSV options\n",
        "infer_schema2 = \"true\"\n",
        "first_row_is_header2 = \"true\"\n",
        "delimiter2 = \",\"\n",
        "\n",
        "# The applied options are for CSV files. For other file types, these will be ignored.\n",
        "df2 = spark.read.format(file_type2) \\\n",
        "  .option(\"inferSchema\", infer_schema2) \\\n",
        "  .option(\"header\", first_row_is_header2) \\\n",
        "  .option(\"sep\", delimiter2) \\\n",
        "  .load(file_location2)\n",
        "\n",
        "# display(df)\n",
        "\n",
        "df_s = df2.toPandas()\n",
        "import pandas as pd\n",
        "df_s['date'] = pd.to_datetime(df_s['date'].astype(str))\n",
        "df_s['close'] = df_s['close'].astype(float)\n",
        "df_s.head()\n",
        "\n"
      ],
      "execution_count": null,
      "outputs": []
    },
    {
      "cell_type": "code",
      "metadata": {
        "id": "XV7eyBQ3ITwS"
      },
      "source": [
        "df_op['strike_price'] = df_op['strike_price'].astype(float)\n",
        "df_op['best_bid'] = df_op['best_bid'].astype(float)\n",
        "df_op['best_offer'] = df_op['best_offer'].astype(float)\n",
        "df_op['strike_price'] *= .001\n",
        "df_op['mid'] = df_op['best_bid']+df_op['best_offer'] \n",
        "df_op['mid'] *= 0.5\n",
        "df_op.head()\n",
        "\n"
      ],
      "execution_count": null,
      "outputs": []
    },
    {
      "cell_type": "code",
      "metadata": {
        "id": "Gma68EiLVuEW"
      },
      "source": [
        "df_op2 = df_op\n",
        "df_s2 = df_s\n",
        "\n",
        "df_op2= df_op.set_index(['date', 'exdate'])\n",
        "df_s2 = df_s2.set_index(df_s['date'])\n",
        "\n",
        "opdates1 = df_op2.index.get_level_values('date')\n",
        "expdates1 = df_op2.index.get_level_values('exdate')\n",
        "stockdates1 = df_s2.index.get_level_values('date')\n",
        "\n",
        "stockdate_end = stockdates1[-1]\n",
        "print(stockdate_end)"
      ],
      "execution_count": null,
      "outputs": []
    },
    {
      "cell_type": "code",
      "metadata": {
        "id": "WsodzLhZVu8X"
      },
      "source": [
        "### Delete rows w ExpDate or regular date outside of stock data range\n",
        "\n",
        "df_op3 = df_op2\n",
        "# stockdates1 = df_s2.index.get_level_values('date')\n",
        "# stockdate_end = stockdates1[-1]\n",
        "df_op3 = df_op3[df_op3.index.get_level_values('exdate')<= stockdate_end]\n",
        "df_op3 = df_op3[df_op3.index.get_level_values('date')<= stockdate_end]\n",
        "\n",
        "print(df_op3.head())"
      ],
      "execution_count": null,
      "outputs": []
    },
    {
      "cell_type": "code",
      "metadata": {
        "id": "fx34X7Z8VxhV"
      },
      "source": [
        "expdates2 = list(df_op3.index.get_level_values('exdate'))\n",
        "stockdates2 = list(df_s2.index.get_level_values('date'))\n",
        "\n",
        "import numpy as np\n",
        "main_list = np.setdiff1d(expdates2,stockdates2)\n",
        "print(main_list) # proves that there are some expDates that are in the stock data range but we dont have specific values for. \n",
        "\n",
        "combined_dates= list(set(stockdates2) | set(expdates2))\n",
        "combined_dates.sort()\n",
        "\n",
        "print(combined_dates)\n",
        "\n",
        "df_s3 = df_s2\n",
        "df_s3 = df_s3.reindex(combined_dates, method = 'bfill')\n",
        "print(df_s3.head(100))"
      ],
      "execution_count": null,
      "outputs": []
    },
    {
      "cell_type": "code",
      "metadata": {
        "id": "2HllY6dKV1Bw"
      },
      "source": [
        "### Add stock_close_cur\n",
        "df_op4 = df_op3\n",
        "opdates2 = df_op4.index.get_level_values('date')\n",
        "expdates2 = df_op4.index.get_level_values('exdate')\n",
        "df_op4 = df_op4.reset_index()\n",
        "df_op4 = df_op4.set_index(['date'])\n",
        "merged = df_op4.merge(df_s3[['close']], on='date')\n",
        "merged.rename(columns={'close':'stock_close_cur'}, inplace=True)\n",
        "merged = merged.reset_index()\n",
        "merged = merged.set_index(['date','exdate'])\n",
        "merged.head()"
      ],
      "execution_count": null,
      "outputs": []
    },
    {
      "cell_type": "code",
      "metadata": {
        "id": "ODJf29ZVcUvk"
      },
      "source": [
        "# Cleaning stock dataframe\n",
        "df_s4 = df_s3\n",
        "df_s4 = df_s4.drop(['date'], axis=1)\n",
        "df_s4 = df_s4.reset_index()\n",
        "df_s4.rename(columns={'date':'exdate'}, inplace=True)\n",
        "df_s4 = df_s4.set_index(['exdate'])\n",
        "df_s4.head()"
      ],
      "execution_count": null,
      "outputs": []
    },
    {
      "cell_type": "code",
      "metadata": {
        "id": "hMLnYZTXcX1_"
      },
      "source": [
        "### Add stock_close_exp\n",
        "\n",
        "merged = merged.reset_index()\n",
        "merged = merged.set_index(['exdate'])\n",
        "merged = merged.merge(df_s4[['close']], left_index=True, right_index=True)\n",
        "merged.rename(columns={'close':'stock_close_exp'}, inplace=True)\n",
        "\n",
        "pd.set_option('display.max_rows', None)\n",
        "merged = merged.reset_index()\n",
        "merged = merged.set_index(['date','exdate'])\n",
        "merged.sort_index(inplace=True)\n",
        "merged.head(40)\n",
        "\n"
      ],
      "execution_count": null,
      "outputs": []
    },
    {
      "cell_type": "code",
      "metadata": {
        "id": "3wh6pbTqhL0Z"
      },
      "source": [
        "import numpy as np\n",
        "df_op5 = merged\n",
        "df_op5.head()\n",
        "df_op5['DaysToExp'] = (df_op5.index.get_level_values('exdate') - df_op5.index.get_level_values('date')).days\n",
        "df_op5['StockMoveByExp'] = (df_op5['stock_close_exp'] / df_op5['stock_close_cur']) -1 \n",
        "df_op5['BreakEvenDist'] = ((df_op5['mid'] + df_op5['strike_price']) / df_op5['stock_close_cur']) - 1\n",
        "# df_op5['OpRetByExp'] = (df_op5['stock_close_exp'] - (df_op5['mid'] + df_op5['strike_price'])) / df_op5['mid']\n",
        "df_op6 = df_op5\n",
        "\n",
        "def OpRet(row):\n",
        "  if row['stock_close_exp'] - (row['strike_price']) > 0:\n",
        "    return (row['stock_close_exp'] - (row['mid'] + row['strike_price'])) / row['mid']\n",
        "  elif row['stock_close_exp'] - (row['strike_price']) < 0:\n",
        "    return -1\n",
        "\n",
        "df_op6['OpRetByExp'] = df_op6.apply (lambda row: OpRet(row), axis=1)\n",
        "\n",
        "df_op6.head(30)\n",
        "\n"
      ],
      "execution_count": null,
      "outputs": []
    },
    {
      "cell_type": "code",
      "metadata": {
        "id": "9iwbODMShMpT"
      },
      "source": [
        "df_op7 = df_op6\n",
        "\n",
        "def OpRisk(row):\n",
        "  if row['stock_close_cur']*(1-0.1) -  row['strike_price'] > 0:\n",
        "    return (row['stock_close_cur']*(1-0.1) - (row['mid'] + row['strike_price'])) / row['mid']\n",
        "  elif row['stock_close_cur']*(1-0.1) -  row['strike_price'] < 0:\n",
        "    return -1\n",
        "\n",
        "df_op7['OpLossIfStockFall10'] = df_op7.apply(lambda row: OpRisk(row), axis=1)"
      ],
      "execution_count": null,
      "outputs": []
    },
    {
      "cell_type": "code",
      "metadata": {
        "id": "FhrBGdkFhRt3"
      },
      "source": [
        "df_op8 = df_op7[df_op7['cp_flag']=='C']\n",
        "df_op8['OpRiskAdjRet'] = (-0.1 / df_op8['OpLossIfStockFall10']) * df_op8['OpRetByExp']\n",
        "df_op8['Moneyness'] = (df_op8['stock_close_cur'] - df_op8['strike_price']) / df_op8['stock_close_cur']\n",
        "df_op8['FutRetVsBreakeven'] = df_op8['StockMoveByExp'] - df_op8['BreakEvenDist'] \n",
        "df_op8.head(50)"
      ],
      "execution_count": null,
      "outputs": []
    },
    {
      "cell_type": "code",
      "metadata": {
        "id": "S37kyLJZHU0C"
      },
      "source": [
        "import matplotlib.pyplot as plt\n",
        "fig, ax = plt.subplots()\n",
        "ax.plot(df_op8['Moneyness'], df_op8['FutRetVsBreakeven'], 'o', color='black')\n",
        "display(fig)\n",
        "fig2, ax2 = plt.subplots()\n",
        "ax2.plot(df_op8['impl_volatility'], df_op8['FutRetVsBreakeven'], 'o', color='red')\n",
        "display(fig2)\n",
        "\n",
        "fig3, ax3 = plt.subplots()\n",
        "ax3.plot(df_op8['Moneyness'], df_op8['OpRetByExp'], 'o', color='yellow')\n",
        "display(fig3)\n",
        "\n",
        "fig4, ax4 = plt.subplots()\n",
        "ax4.plot(df_op8['impl_volatility'], df_op8['OpRetByExp'], 'o', color='green')\n",
        "display(fig4)\n",
        "\n",
        "fig5, ax5 = plt.subplots()\n",
        "ax5.plot(df_op8['Moneyness'], df_op8['OpRiskAdjRet'], 'o', color='orange')\n",
        "display(fig5)\n",
        "\n",
        "fig6, ax6 = plt.subplots()\n",
        "ax6.plot(df_op8['impl_volatility'], df_op8['OpRiskAdjRet'], 'o', color='purple')\n",
        "display(fig6)"
      ],
      "execution_count": null,
      "outputs": []
    }
  ]
}